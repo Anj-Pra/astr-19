{
 "cells": [
  {
   "cell_type": "markdown",
   "id": "fec16dda",
   "metadata": {},
   "source": [
    "Session 6 Prompt\n",
    "\n",
    "Create a Jupyter Notebook where, in separate cells, you\n",
    "define functions that return sin(x) and cos(x).  Use\n",
    "Markdown cells to comment your Notebook, and describe\n",
    "what each function does. Create a third Python cell that\n",
    "will tabulate sin(x) and cos(x) using these previously\n",
    "defined functions vs. x, where x is tabulated between 0\n",
    "and 2 with a thousand entries. Write a fourth Python cell\n",
    "that will use a for loop to print out the first 10 values\n",
    "of x, sin(x), and cos(x) in columns."
   ]
  },
  {
   "cell_type": "code",
   "execution_count": 9,
   "id": "2e30a671",
   "metadata": {},
   "outputs": [],
   "source": [
    "from math import sin, cos\n",
    "import numpy as np\n",
    "from astropy.table import Table"
   ]
  },
  {
   "cell_type": "code",
   "execution_count": 10,
   "id": "b99a9bb6",
   "metadata": {},
   "outputs": [],
   "source": [
    "def dosin(x):\n",
    "    return(sin(x))"
   ]
  },
  {
   "cell_type": "code",
   "execution_count": 11,
   "id": "d4b21679",
   "metadata": {},
   "outputs": [],
   "source": [
    "def docos(x):\n",
    "    return(cos(x))"
   ]
  },
  {
   "cell_type": "markdown",
   "id": "48cf4052",
   "metadata": {},
   "source": [
    "Each Function returns the sine and cosine of x."
   ]
  },
  {
   "cell_type": "code",
   "execution_count": 12,
   "id": "e8197323",
   "metadata": {},
   "outputs": [
    {
     "name": "stdout",
     "output_type": "stream",
     "text": [
      " sin(x)  cos(x)    x  \n",
      "------- -------- -----\n",
      "    0.0      1.0   0.0\n",
      "  0.002      1.0 0.002\n",
      "    ...      ...   ...\n",
      "0.91013 -0.41433 1.998\n",
      " 0.9093 -0.41615   2.0\n",
      "Length = 1001 rows\n"
     ]
    }
   ],
   "source": [
    "curx = 0\n",
    "arr = []\n",
    "arr2 = []\n",
    "arr3 = []\n",
    "while curx <= 2:\n",
    "    arr.append(curx)\n",
    "    arr2.append(round(dosin(curx), 5))\n",
    "    arr3.append(round(docos(curx), 5))\n",
    "    curx += .002\n",
    "    curx = round(curx, 3) # rounding bc python is finicky with decimals\n",
    "x = np.array (arr)\n",
    "y = np.array (arr2)\n",
    "z = np.array (arr3)\n",
    "data = Table([y,z,x],names=['sin(x)','cos(x)','x'])\n",
    "print(data)"
   ]
  },
  {
   "cell_type": "markdown",
   "id": "e978faed",
   "metadata": {},
   "source": [
    "All data tabulated"
   ]
  },
  {
   "cell_type": "code",
   "execution_count": 13,
   "id": "18f710e8",
   "metadata": {},
   "outputs": [
    {
     "name": "stdout",
     "output_type": "stream",
     "text": [
      "sin(x) cos(x)  x \n",
      "------ ------ ---\n",
      "   0.0    1.0 0.0\n",
      "sin(x) cos(x)   x  \n",
      "------ ------ -----\n",
      " 0.002    1.0 0.002\n",
      "sin(x)  cos(x)   x  \n",
      "------ ------- -----\n",
      " 0.004 0.99999 0.004\n",
      "sin(x)  cos(x)   x  \n",
      "------ ------- -----\n",
      " 0.006 0.99998 0.006\n",
      "sin(x)  cos(x)   x  \n",
      "------ ------- -----\n",
      " 0.008 0.99997 0.008\n",
      "sin(x)  cos(x)  x  \n",
      "------ ------- ----\n",
      "  0.01 0.99995 0.01\n",
      "sin(x)  cos(x)   x  \n",
      "------ ------- -----\n",
      " 0.012 0.99993 0.012\n",
      "sin(x) cos(x)   x  \n",
      "------ ------ -----\n",
      " 0.014 0.9999 0.014\n",
      "sin(x)  cos(x)   x  \n",
      "------ ------- -----\n",
      " 0.016 0.99987 0.016\n",
      "sin(x)  cos(x)   x  \n",
      "------ ------- -----\n",
      " 0.018 0.99984 0.018\n"
     ]
    }
   ],
   "source": [
    "count = 0\n",
    "for i in data:\n",
    "    print(i)\n",
    "    count+=1\n",
    "    if count >= 10:\n",
    "        break"
   ]
  }
 ],
 "metadata": {
  "kernelspec": {
   "display_name": "Python 3 (ipykernel)",
   "language": "python",
   "name": "python3"
  },
  "language_info": {
   "codemirror_mode": {
    "name": "ipython",
    "version": 3
   },
   "file_extension": ".py",
   "mimetype": "text/x-python",
   "name": "python",
   "nbconvert_exporter": "python",
   "pygments_lexer": "ipython3",
   "version": "3.10.4"
  }
 },
 "nbformat": 4,
 "nbformat_minor": 5
}
