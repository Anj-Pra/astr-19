{
 "cells": [
  {
   "cell_type": "markdown",
   "id": "5f95f781",
   "metadata": {},
   "source": [
    "Session 10 Prompt\n",
    "\n",
    "Create a Jupyter notebook, import matplotlib. On the numpy website, read about the random number distributions available for pulling random variates.  Select your favorite distribution (other than uniform) and pull 1000 random numbers from that distribution. Histogram the random numbers into 100 bins, and plot the histogram. Label your axes and save the figure as a PDF."
   ]
  },
  {
   "cell_type": "code",
   "execution_count": 1,
   "id": "af634232",
   "metadata": {},
   "outputs": [],
   "source": [
    "import numpy as np\n",
    "import matplotlib.pyplot as plt"
   ]
  },
  {
   "cell_type": "code",
   "execution_count": 2,
   "id": "8b32d56f",
   "metadata": {},
   "outputs": [],
   "source": [
    "x = np.random.triangular(0, .75, 1, 1000)"
   ]
  },
  {
   "cell_type": "code",
   "execution_count": 3,
   "id": "ec5a0ae9",
   "metadata": {},
   "outputs": [
    {
     "data": {
      "image/png": "[encoded data removed]",
      "text/plain": [
       "<Figure size 432x288 with 1 Axes>"
      ]
     },
     "metadata": {
      "needs_background": "light"
     },
     "output_type": "display_data"
    }
   ],
   "source": [
    "plt.hist(x, bins = 100)\n",
    "plt.xlabel(\"x\")\n",
    "plt.ylabel(\"N per bin\")\n",
    "plt.title(\"Triangular distribution over 100 bins\")\n",
    "plt.savefig(\"figure4.pdf\")\n",
    "plt.show() "
   ]
  }
 ],
 "metadata": {
  "kernelspec": {
   "display_name": "Python 3 (ipykernel)",
   "language": "python",
   "name": "python3"
  },
  "language_info": {
   "codemirror_mode": {
    "name": "ipython",
    "version": 3
   },
   "file_extension": ".py",
   "mimetype": "text/x-python",
   "name": "python",
   "nbconvert_exporter": "python",
   "pygments_lexer": "ipython3",
   "version": "3.10.4"
  }
 },
 "nbformat": 4,
 "nbformat_minor": 5
}
